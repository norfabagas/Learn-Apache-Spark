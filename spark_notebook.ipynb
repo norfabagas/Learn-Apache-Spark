{
  "nbformat": 4,
  "nbformat_minor": 0,
  "metadata": {
    "colab": {
      "name": "spark-notebook.ipynb",
      "provenance": [],
      "collapsed_sections": [
        "xKQ5gFBTNoSz",
        "MVD5kCECMoFW"
      ]
    },
    "kernelspec": {
      "name": "python3",
      "display_name": "Python 3"
    }
  },
  "cells": [
    {
      "cell_type": "markdown",
      "metadata": {
        "id": "8ZubERJaMkv7"
      },
      "source": [
        "# Installation"
      ]
    },
    {
      "cell_type": "code",
      "metadata": {
        "id": "33cRk8YlpGmQ"
      },
      "source": [
        "!apt-get install openjdk-8-jdk-headless -qq > /dev/null"
      ],
      "execution_count": null,
      "outputs": []
    },
    {
      "cell_type": "code",
      "metadata": {
        "id": "fRT_mRPiz8vM"
      },
      "source": [
        "!update-alternatives --set java /usr/lib/jvm/java-8-openjdk-amd64/jre/bin/java"
      ],
      "execution_count": null,
      "outputs": []
    },
    {
      "cell_type": "code",
      "metadata": {
        "colab": {
          "base_uri": "https://localhost:8080/"
        },
        "id": "Q-oT_C9iz4Pm",
        "outputId": "4d21292e-f38e-4bf0-9d34-a19526757073"
      },
      "source": [
        "!java -version"
      ],
      "execution_count": null,
      "outputs": [
        {
          "output_type": "stream",
          "text": [
            "openjdk version \"1.8.0_275\"\n",
            "OpenJDK Runtime Environment (build 1.8.0_275-8u275-b01-0ubuntu1~18.04-b01)\n",
            "OpenJDK 64-Bit Server VM (build 25.275-b01, mixed mode)\n"
          ],
          "name": "stdout"
        }
      ]
    },
    {
      "cell_type": "code",
      "metadata": {
        "id": "_9hqPGn9pVXN"
      },
      "source": [
        "!wget -q https://downloads.apache.org/spark/spark-3.0.1/spark-3.0.1-bin-hadoop3.2.tgz"
      ],
      "execution_count": null,
      "outputs": []
    },
    {
      "cell_type": "code",
      "metadata": {
        "id": "JsiMIyXUpWy3"
      },
      "source": [
        "!tar xf spark-3.0.1-bin-hadoop3.2.tgz"
      ],
      "execution_count": null,
      "outputs": []
    },
    {
      "cell_type": "code",
      "metadata": {
        "id": "RBlHjZJBpZer"
      },
      "source": [
        "!pip install -q findspark"
      ],
      "execution_count": null,
      "outputs": []
    },
    {
      "cell_type": "code",
      "metadata": {
        "id": "Fo8aOfYRz1yh",
        "colab": {
          "base_uri": "https://localhost:8080/"
        },
        "outputId": "2e21cbf5-6166-423b-b139-c85d94f608f4"
      },
      "source": [
        "!pip list"
      ],
      "execution_count": null,
      "outputs": [
        {
          "output_type": "stream",
          "text": [
            "Package                       Version        \n",
            "----------------------------- ---------------\n",
            "absl-py                       0.10.0         \n",
            "alabaster                     0.7.12         \n",
            "albumentations                0.1.12         \n",
            "altair                        4.1.0          \n",
            "appdirs                       1.4.4          \n",
            "argon2-cffi                   20.1.0         \n",
            "asgiref                       3.3.1          \n",
            "astor                         0.8.1          \n",
            "astropy                       4.1            \n",
            "astunparse                    1.6.3          \n",
            "async-generator               1.10           \n",
            "atari-py                      0.2.6          \n",
            "atomicwrites                  1.4.0          \n",
            "attrs                         20.3.0         \n",
            "audioread                     2.1.9          \n",
            "autograd                      1.3            \n",
            "Babel                         2.9.0          \n",
            "backcall                      0.2.0          \n",
            "beautifulsoup4                4.6.3          \n",
            "bleach                        3.2.3          \n",
            "blis                          0.4.1          \n",
            "bokeh                         2.1.1          \n",
            "Bottleneck                    1.3.2          \n",
            "branca                        0.4.2          \n",
            "bs4                           0.0.1          \n",
            "CacheControl                  0.12.6         \n",
            "cachetools                    4.2.1          \n",
            "catalogue                     1.0.0          \n",
            "certifi                       2020.12.5      \n",
            "cffi                          1.14.4         \n",
            "chainer                       7.4.0          \n",
            "chardet                       3.0.4          \n",
            "click                         7.1.2          \n",
            "cloudpickle                   1.3.0          \n",
            "cmake                         3.12.0         \n",
            "cmdstanpy                     0.9.5          \n",
            "colorlover                    0.3.0          \n",
            "community                     1.0.0b1        \n",
            "contextlib2                   0.5.5          \n",
            "convertdate                   2.2.0          \n",
            "coverage                      3.7.1          \n",
            "coveralls                     0.5            \n",
            "crcmod                        1.7            \n",
            "cufflinks                     0.17.3         \n",
            "cvxopt                        1.2.5          \n",
            "cvxpy                         1.0.31         \n",
            "cycler                        0.10.0         \n",
            "cymem                         2.0.5          \n",
            "Cython                        0.29.21        \n",
            "daft                          0.0.4          \n",
            "dask                          2.12.0         \n",
            "dataclasses                   0.8            \n",
            "datascience                   0.10.6         \n",
            "debugpy                       1.0.0          \n",
            "decorator                     4.4.2          \n",
            "defusedxml                    0.6.0          \n",
            "descartes                     1.1.0          \n",
            "dill                          0.3.3          \n",
            "distributed                   1.25.3         \n",
            "Django                        3.1.5          \n",
            "dlib                          19.18.0        \n",
            "dm-tree                       0.1.5          \n",
            "docopt                        0.6.2          \n",
            "docutils                      0.16           \n",
            "dopamine-rl                   1.0.5          \n",
            "earthengine-api               0.1.238        \n",
            "easydict                      1.9            \n",
            "ecos                          2.0.7.post1    \n",
            "editdistance                  0.5.3          \n",
            "en-core-web-sm                2.2.5          \n",
            "entrypoints                   0.3            \n",
            "ephem                         3.7.7.1        \n",
            "et-xmlfile                    1.0.1          \n",
            "fa2                           0.3.5          \n",
            "fancyimpute                   0.4.3          \n",
            "fastai                        1.0.61         \n",
            "fastdtw                       0.3.4          \n",
            "fastprogress                  1.0.0          \n",
            "fastrlock                     0.5            \n",
            "fbprophet                     0.7.1          \n",
            "feather-format                0.4.1          \n",
            "filelock                      3.0.12         \n",
            "findspark                     1.4.2          \n",
            "firebase-admin                4.4.0          \n",
            "fix-yahoo-finance             0.0.22         \n",
            "Flask                         1.1.2          \n",
            "flatbuffers                   1.12           \n",
            "folium                        0.8.3          \n",
            "future                        0.16.0         \n",
            "gast                          0.3.3          \n",
            "GDAL                          2.2.2          \n",
            "gdown                         3.6.4          \n",
            "gensim                        3.6.0          \n",
            "geographiclib                 1.50           \n",
            "geopy                         1.17.0         \n",
            "gin-config                    0.4.0          \n",
            "glob2                         0.7            \n",
            "google                        2.0.3          \n",
            "google-api-core               1.16.0         \n",
            "google-api-python-client      1.7.12         \n",
            "google-auth                   1.24.0         \n",
            "google-auth-httplib2          0.0.4          \n",
            "google-auth-oauthlib          0.4.2          \n",
            "google-cloud-bigquery         1.21.0         \n",
            "google-cloud-bigquery-storage 1.1.0          \n",
            "google-cloud-core             1.0.3          \n",
            "google-cloud-datastore        1.8.0          \n",
            "google-cloud-firestore        1.7.0          \n",
            "google-cloud-language         1.2.0          \n",
            "google-cloud-storage          1.18.1         \n",
            "google-cloud-translate        1.5.0          \n",
            "google-colab                  1.0.0          \n",
            "google-pasta                  0.2.0          \n",
            "google-resumable-media        0.4.1          \n",
            "googleapis-common-protos      1.52.0         \n",
            "googledrivedownloader         0.4            \n",
            "graphviz                      0.10.1         \n",
            "grpcio                        1.32.0         \n",
            "gspread                       3.0.1          \n",
            "gspread-dataframe             3.0.8          \n",
            "gym                           0.17.3         \n",
            "h5py                          2.10.0         \n",
            "HeapDict                      1.0.1          \n",
            "holidays                      0.10.4         \n",
            "holoviews                     1.13.5         \n",
            "html5lib                      1.0.1          \n",
            "httpimport                    0.5.18         \n",
            "httplib2                      0.17.4         \n",
            "httplib2shim                  0.0.3          \n",
            "humanize                      0.5.1          \n",
            "hyperopt                      0.1.2          \n",
            "ideep4py                      2.0.0.post3    \n",
            "idna                          2.10           \n",
            "image                         1.5.33         \n",
            "imageio                       2.4.1          \n",
            "imagesize                     1.2.0          \n",
            "imbalanced-learn              0.4.3          \n",
            "imblearn                      0.0            \n",
            "imgaug                        0.2.9          \n",
            "importlib-metadata            3.4.0          \n",
            "importlib-resources           5.1.0          \n",
            "imutils                       0.5.4          \n",
            "inflect                       2.1.0          \n",
            "iniconfig                     1.1.1          \n",
            "intel-openmp                  2021.1.2       \n",
            "intervaltree                  2.1.0          \n",
            "ipykernel                     4.10.1         \n",
            "ipython                       5.5.0          \n",
            "ipython-genutils              0.2.0          \n",
            "ipython-sql                   0.3.9          \n",
            "ipywidgets                    7.6.3          \n",
            "itsdangerous                  1.1.0          \n",
            "jax                           0.2.8          \n",
            "jaxlib                        0.1.59+cuda101 \n",
            "jdcal                         1.4.1          \n",
            "jedi                          0.18.0         \n",
            "jieba                         0.42.1         \n",
            "Jinja2                        2.11.2         \n",
            "joblib                        1.0.0          \n",
            "jpeg4py                       0.1.4          \n",
            "jsonschema                    2.6.0          \n",
            "jupyter                       1.0.0          \n",
            "jupyter-client                5.3.5          \n",
            "jupyter-console               5.2.0          \n",
            "jupyter-core                  4.7.0          \n",
            "jupyterlab-pygments           0.1.2          \n",
            "jupyterlab-widgets            1.0.0          \n",
            "kaggle                        1.5.10         \n",
            "kapre                         0.1.3.1        \n",
            "Keras                         2.4.3          \n",
            "Keras-Preprocessing           1.1.2          \n",
            "keras-vis                     0.4.1          \n",
            "kiwisolver                    1.3.1          \n",
            "knnimpute                     0.1.0          \n",
            "korean-lunar-calendar         0.2.1          \n",
            "librosa                       0.8.0          \n",
            "lightgbm                      2.2.3          \n",
            "llvmlite                      0.34.0         \n",
            "lmdb                          0.99           \n",
            "lucid                         0.3.8          \n",
            "LunarCalendar                 0.0.9          \n",
            "lxml                          4.2.6          \n",
            "Markdown                      3.3.3          \n",
            "MarkupSafe                    1.1.1          \n",
            "matplotlib                    3.2.2          \n",
            "matplotlib-venn               0.11.6         \n",
            "missingno                     0.4.2          \n",
            "mistune                       0.8.4          \n",
            "mizani                        0.6.0          \n",
            "mkl                           2019.0         \n",
            "mlxtend                       0.14.0         \n",
            "more-itertools                8.6.0          \n",
            "moviepy                       0.2.3.5        \n",
            "mpmath                        1.1.0          \n",
            "msgpack                       1.0.2          \n",
            "multiprocess                  0.70.11.1      \n",
            "multitasking                  0.0.9          \n",
            "murmurhash                    1.0.5          \n",
            "music21                       5.5.0          \n",
            "natsort                       5.5.0          \n",
            "nbclient                      0.5.1          \n",
            "nbconvert                     5.6.1          \n",
            "nbformat                      5.1.2          \n",
            "nest-asyncio                  1.5.1          \n",
            "networkx                      2.5            \n",
            "nibabel                       3.0.2          \n",
            "nltk                          3.2.5          \n",
            "notebook                      5.3.1          \n",
            "np-utils                      0.5.12.1       \n",
            "numba                         0.51.2         \n",
            "numexpr                       2.7.2          \n",
            "numpy                         1.19.5         \n",
            "nvidia-ml-py3                 7.352.0        \n",
            "oauth2client                  4.1.3          \n",
            "oauthlib                      3.1.0          \n",
            "okgrade                       0.4.3          \n",
            "opencv-contrib-python         4.1.2.30       \n",
            "opencv-python                 4.1.2.30       \n",
            "openpyxl                      2.5.9          \n",
            "opt-einsum                    3.3.0          \n",
            "osqp                          0.6.2.post0    \n",
            "packaging                     20.8           \n",
            "palettable                    3.3.0          \n",
            "pandas                        1.1.5          \n",
            "pandas-datareader             0.9.0          \n",
            "pandas-gbq                    0.13.3         \n",
            "pandas-profiling              1.4.1          \n",
            "pandocfilters                 1.4.3          \n",
            "panel                         0.9.7          \n",
            "param                         1.10.1         \n",
            "parso                         0.8.1          \n",
            "pathlib                       1.0.1          \n",
            "patsy                         0.5.1          \n",
            "pexpect                       4.8.0          \n",
            "pickleshare                   0.7.5          \n",
            "Pillow                        7.0.0          \n",
            "pip                           19.3.1         \n",
            "pip-tools                     4.5.1          \n",
            "plac                          1.1.3          \n",
            "plotly                        4.4.1          \n",
            "plotnine                      0.6.0          \n",
            "pluggy                        0.7.1          \n",
            "pooch                         1.3.0          \n",
            "portpicker                    1.3.1          \n",
            "prefetch-generator            1.0.1          \n",
            "preshed                       3.0.5          \n",
            "prettytable                   2.0.0          \n",
            "progressbar2                  3.38.0         \n",
            "prometheus-client             0.9.0          \n",
            "promise                       2.3            \n",
            "prompt-toolkit                1.0.18         \n",
            "protobuf                      3.12.4         \n",
            "psutil                        5.4.8          \n",
            "psycopg2                      2.7.6.1        \n",
            "ptyprocess                    0.7.0          \n",
            "py                            1.10.0         \n",
            "pyarrow                       0.14.1         \n",
            "pyasn1                        0.4.8          \n",
            "pyasn1-modules                0.2.8          \n",
            "pycocotools                   2.0.2          \n",
            "pycparser                     2.20           \n",
            "pyct                          0.4.8          \n",
            "pydata-google-auth            1.1.0          \n",
            "pydot                         1.3.0          \n",
            "pydot-ng                      2.0.0          \n",
            "pydotplus                     2.0.2          \n",
            "PyDrive                       1.3.1          \n",
            "pyemd                         0.5.1          \n",
            "pyglet                        1.5.0          \n",
            "Pygments                      2.6.1          \n",
            "pygobject                     3.26.1         \n",
            "pymc3                         3.7            \n",
            "PyMeeus                       0.3.7          \n",
            "pymongo                       3.11.2         \n",
            "pymystem3                     0.2.0          \n",
            "pynndescent                   0.5.1          \n",
            "PyOpenGL                      3.1.5          \n",
            "pyparsing                     2.4.7          \n",
            "pyrsistent                    0.17.3         \n",
            "pysndfile                     1.3.8          \n",
            "PySocks                       1.7.1          \n",
            "pystan                        2.19.1.1       \n",
            "pytest                        3.6.4          \n",
            "python-apt                    1.6.5+ubuntu0.5\n",
            "python-chess                  0.23.11        \n",
            "python-dateutil               2.8.1          \n",
            "python-louvain                0.15           \n",
            "python-slugify                4.0.1          \n",
            "python-utils                  2.5.5          \n",
            "pytz                          2018.9         \n",
            "pyviz-comms                   2.0.1          \n",
            "PyWavelets                    1.1.1          \n",
            "PyYAML                        3.13           \n",
            "pyzmq                         22.0.2         \n",
            "qdldl                         0.1.5.post0    \n",
            "qtconsole                     5.0.2          \n",
            "QtPy                          1.9.0          \n",
            "regex                         2019.12.20     \n",
            "requests                      2.23.0         \n",
            "requests-oauthlib             1.3.0          \n",
            "resampy                       0.2.2          \n",
            "retrying                      1.3.3          \n",
            "rpy2                          3.2.7          \n",
            "rsa                           4.7            \n",
            "scikit-image                  0.16.2         \n",
            "scikit-learn                  0.22.2.post1   \n",
            "scipy                         1.4.1          \n",
            "screen-resolution-extra       0.0.0          \n",
            "scs                           2.1.2          \n",
            "seaborn                       0.11.1         \n",
            "Send2Trash                    1.5.0          \n",
            "setuptools                    53.0.0         \n",
            "setuptools-git                1.2            \n",
            "Shapely                       1.7.1          \n",
            "simplegeneric                 0.8.1          \n",
            "six                           1.15.0         \n",
            "sklearn                       0.0            \n",
            "sklearn-pandas                1.8.0          \n",
            "smart-open                    4.1.2          \n",
            "snowballstemmer               2.1.0          \n",
            "sortedcontainers              2.3.0          \n",
            "SoundFile                     0.10.3.post1   \n",
            "spacy                         2.2.4          \n",
            "Sphinx                        1.8.5          \n",
            "sphinxcontrib-serializinghtml 1.1.4          \n",
            "sphinxcontrib-websupport      1.2.4          \n",
            "SQLAlchemy                    1.3.22         \n",
            "sqlparse                      0.4.1          \n",
            "srsly                         1.0.5          \n",
            "statsmodels                   0.10.2         \n",
            "sympy                         1.1.1          \n",
            "tables                        3.4.4          \n",
            "tabulate                      0.8.7          \n",
            "tblib                         1.7.0          \n",
            "tensorboard                   2.4.1          \n",
            "tensorboard-plugin-wit        1.8.0          \n",
            "tensorboardcolab              0.0.22         \n",
            "tensorflow                    2.4.1          \n",
            "tensorflow-addons             0.8.3          \n",
            "tensorflow-datasets           4.0.1          \n",
            "tensorflow-estimator          2.4.0          \n",
            "tensorflow-gcs-config         2.4.0          \n",
            "tensorflow-hub                0.11.0         \n",
            "tensorflow-metadata           0.27.0         \n",
            "tensorflow-privacy            0.2.2          \n",
            "tensorflow-probability        0.12.1         \n",
            "termcolor                     1.1.0          \n",
            "terminado                     0.9.2          \n",
            "testpath                      0.4.4          \n",
            "text-unidecode                1.3            \n",
            "textblob                      0.15.3         \n",
            "textgenrnn                    1.4.1          \n",
            "Theano                        1.0.5          \n",
            "thinc                         7.4.0          \n",
            "tifffile                      2020.9.3       \n",
            "toml                          0.10.2         \n",
            "toolz                         0.11.1         \n",
            "torch                         1.7.0+cu101    \n",
            "torchsummary                  1.5.1          \n",
            "torchtext                     0.3.1          \n",
            "torchvision                   0.8.1+cu101    \n",
            "tornado                       5.1.1          \n",
            "tqdm                          4.41.1         \n",
            "traitlets                     4.3.3          \n",
            "tweepy                        3.6.0          \n",
            "typeguard                     2.7.1          \n",
            "typing-extensions             3.7.4.3        \n",
            "tzlocal                       1.5.1          \n",
            "umap-learn                    0.5.0          \n",
            "uritemplate                   3.0.1          \n",
            "urllib3                       1.24.3         \n",
            "vega-datasets                 0.9.0          \n",
            "wasabi                        0.8.1          \n",
            "wcwidth                       0.2.5          \n",
            "webencodings                  0.5.1          \n",
            "Werkzeug                      1.0.1          \n",
            "wheel                         0.36.2         \n",
            "widgetsnbextension            3.5.1          \n",
            "wordcloud                     1.5.0          \n",
            "wrapt                         1.12.1         \n",
            "xarray                        0.15.1         \n",
            "xgboost                       0.90           \n",
            "xkit                          0.0.0          \n",
            "xlrd                          1.1.0          \n",
            "xlwt                          1.3.0          \n",
            "yellowbrick                   0.9.1          \n",
            "zict                          2.0.0          \n",
            "zipp                          3.4.0          \n"
          ],
          "name": "stdout"
        }
      ]
    },
    {
      "cell_type": "code",
      "metadata": {
        "id": "fMeHVadApy3l"
      },
      "source": [
        "import os\n",
        "os.environ[\"JAVA_HOME\"] = \"/usr/lib/jvm/java-8-openjdk-amd64\"\n",
        "os.environ[\"SPARK_HOME\"] = \"/content/spark-3.0.1-bin-hadoop3.2\""
      ],
      "execution_count": null,
      "outputs": []
    },
    {
      "cell_type": "code",
      "metadata": {
        "colab": {
          "base_uri": "https://localhost:8080/"
        },
        "id": "s_3ebF3LprOa",
        "outputId": "5402db85-214d-43a5-b425-3cb6e104dd73"
      },
      "source": [
        "# Check the pyspark version\n",
        "import findspark\n",
        "print(findspark.__version__)"
      ],
      "execution_count": null,
      "outputs": [
        {
          "output_type": "stream",
          "text": [
            "1.4.2\n"
          ],
          "name": "stdout"
        }
      ]
    },
    {
      "cell_type": "code",
      "metadata": {
        "id": "y_OgkYl_usEb"
      },
      "source": [
        "import findspark\n",
        "findspark.init()"
      ],
      "execution_count": null,
      "outputs": []
    },
    {
      "cell_type": "code",
      "metadata": {
        "colab": {
          "base_uri": "https://localhost:8080/"
        },
        "id": "1TG9Do0Yu6eZ",
        "outputId": "03451a02-d874-4b97-c40a-e4ca63b2b74f"
      },
      "source": [
        "# Check the pyspark version\n",
        "import pyspark\n",
        "print(pyspark.__version__)"
      ],
      "execution_count": null,
      "outputs": [
        {
          "output_type": "stream",
          "text": [
            "3.0.1\n"
          ],
          "name": "stdout"
        }
      ]
    },
    {
      "cell_type": "markdown",
      "metadata": {
        "id": "xKQ5gFBTNoSz"
      },
      "source": [
        "# Initialize Spark"
      ]
    },
    {
      "cell_type": "code",
      "metadata": {
        "id": "ey1VIYtLNqYA"
      },
      "source": [
        "from pyspark.sql import SparkSession\n",
        "spark = SparkSession.builder.master(\"local[*]\").getOrCreate()"
      ],
      "execution_count": null,
      "outputs": []
    },
    {
      "cell_type": "code",
      "metadata": {
        "colab": {
          "base_uri": "https://localhost:8080/",
          "height": 216
        },
        "id": "fiNlJ-kGNsyg",
        "outputId": "4e11980c-49ed-41a4-83a0-a2bbea1c9807"
      },
      "source": [
        "spark"
      ],
      "execution_count": null,
      "outputs": [
        {
          "output_type": "execute_result",
          "data": {
            "text/html": [
              "\n",
              "            <div>\n",
              "                <p><b>SparkSession - in-memory</b></p>\n",
              "                \n",
              "        <div>\n",
              "            <p><b>SparkContext</b></p>\n",
              "\n",
              "            <p><a href=\"http://0d0cd93f171d:4040\">Spark UI</a></p>\n",
              "\n",
              "            <dl>\n",
              "              <dt>Version</dt>\n",
              "                <dd><code>v3.0.1</code></dd>\n",
              "              <dt>Master</dt>\n",
              "                <dd><code>local[*]</code></dd>\n",
              "              <dt>AppName</dt>\n",
              "                <dd><code>pyspark-shell</code></dd>\n",
              "            </dl>\n",
              "        </div>\n",
              "        \n",
              "            </div>\n",
              "        "
            ],
            "text/plain": [
              "<pyspark.sql.session.SparkSession at 0x7f0ea6dce668>"
            ]
          },
          "metadata": {
            "tags": []
          },
          "execution_count": 13
        }
      ]
    },
    {
      "cell_type": "markdown",
      "metadata": {
        "id": "MVD5kCECMoFW"
      },
      "source": [
        "# Retrieve data"
      ]
    },
    {
      "cell_type": "code",
      "metadata": {
        "colab": {
          "base_uri": "https://localhost:8080/"
        },
        "id": "CKrO7anrMvHP",
        "outputId": "9a8aed9a-a27f-45b3-be6f-556cc6becb96"
      },
      "source": [
        "!wget -O \"data-covid-june-2020.csv\" \"https://data.jakarta.go.id/dataset/345150fd-b5e0-419d-bbd4-bce2ff52bf30/resource/127c4006-8eb5-43f9-abfb-06a8c2388a2e/download/Data-ODP-PDP-dan-Positif-Covid-19-DKI-Jakarta-Per-Kecamatan-Bulan-Juni-2020.csv\""
      ],
      "execution_count": null,
      "outputs": [
        {
          "output_type": "stream",
          "text": [
            "--2021-02-03 15:42:25--  https://data.jakarta.go.id/dataset/345150fd-b5e0-419d-bbd4-bce2ff52bf30/resource/127c4006-8eb5-43f9-abfb-06a8c2388a2e/download/Data-ODP-PDP-dan-Positif-Covid-19-DKI-Jakarta-Per-Kecamatan-Bulan-Juni-2020.csv\n",
            "Resolving data.jakarta.go.id (data.jakarta.go.id)... 103.209.7.34\n",
            "Connecting to data.jakarta.go.id (data.jakarta.go.id)|103.209.7.34|:443... connected.\n",
            "HTTP request sent, awaiting response... 200 OK\n",
            "Length: 5745 (5.6K) [text/x-comma-separated-values]\n",
            "Saving to: ‘data-covid-june-2020.csv’\n",
            "\n",
            "data-covid-june-202 100%[===================>]   5.61K  --.-KB/s    in 0s      \n",
            "\n",
            "2021-02-03 15:42:26 (94.1 MB/s) - ‘data-covid-june-2020.csv’ saved [5745/5745]\n",
            "\n"
          ],
          "name": "stdout"
        }
      ]
    },
    {
      "cell_type": "code",
      "metadata": {
        "id": "DEPFWFGhNdQm"
      },
      "source": [
        "# RDD\n",
        "raw_content = spark.sparkContext.textFile('data-covid-june-2020.csv')"
      ],
      "execution_count": null,
      "outputs": []
    },
    {
      "cell_type": "code",
      "metadata": {
        "colab": {
          "base_uri": "https://localhost:8080/"
        },
        "id": "fd1MER3mN4T-",
        "outputId": "b7afad47-733e-456f-8c6f-0573b485c139"
      },
      "source": [
        "type(raw_content)"
      ],
      "execution_count": null,
      "outputs": [
        {
          "output_type": "execute_result",
          "data": {
            "text/plain": [
              "pyspark.rdd.RDD"
            ]
          },
          "metadata": {
            "tags": []
          },
          "execution_count": 16
        }
      ]
    },
    {
      "cell_type": "code",
      "metadata": {
        "colab": {
          "base_uri": "https://localhost:8080/"
        },
        "id": "kgGMvCgGN5mu",
        "outputId": "f4ab6b3b-9895-4c34-d2f5-d32363cbbf71"
      },
      "source": [
        "# count data\n",
        "raw_content.count()"
      ],
      "execution_count": null,
      "outputs": [
        {
          "output_type": "execute_result",
          "data": {
            "text/plain": [
              "107"
            ]
          },
          "metadata": {
            "tags": []
          },
          "execution_count": 17
        }
      ]
    },
    {
      "cell_type": "code",
      "metadata": {
        "colab": {
          "base_uri": "https://localhost:8080/"
        },
        "id": "o6PT-68qN_c1",
        "outputId": "86900acc-53e4-4b15-d702-c56ee2080b2e"
      },
      "source": [
        "raw_content.take(10)"
      ],
      "execution_count": null,
      "outputs": [
        {
          "output_type": "execute_result",
          "data": {
            "text/plain": [
              "['tanggal,kecamatan,odp,proses_pemantauan,selesai_pemantauan,pdp,masih_dirawat,pulang_dan_sehat,positif,dirawat,sembuh,meninggal,isolasi_mandiri',\n",
              " '2020-06-01,BELUM DIKETAHUI,4534,308,4226,3315,608,2707,623,170,29,5,419',\n",
              " '2020-06-01,CAKUNG,415,7,408,112,6,106,124,32,39,9,44',\n",
              " '2020-06-01,CEMPAKA PUTIH,761,6,755,192,7,185,94,20,46,7,21',\n",
              " '2020-06-01,CENGKARENG,638,3,635,99,17,82,139,36,39,11,53',\n",
              " '2020-06-01,CILANDAK,474,1,473,180,9,171,94,15,45,14,20',\n",
              " '2020-06-01,CILINCING,767,18,749,106,15,91,103,22,17,8,56',\n",
              " '2020-06-01,CIPAYUNG,360,5,355,108,6,102,69,19,26,1,23',\n",
              " '2020-06-01,CIRACAS,405,6,399,89,4,85,63,17,21,8,17',\n",
              " '2020-06-01,DUREN SAWIT,816,14,802,153,2,151,255,44,81,25,105']"
            ]
          },
          "metadata": {
            "tags": []
          },
          "execution_count": 18
        }
      ]
    },
    {
      "cell_type": "code",
      "metadata": {
        "id": "Ga6TzVnqOBcV"
      },
      "source": [
        "# Split the data by comma (original data was csv)\n",
        "content = raw_content.map(lambda x: x.split(','))"
      ],
      "execution_count": null,
      "outputs": []
    },
    {
      "cell_type": "code",
      "metadata": {
        "colab": {
          "base_uri": "https://localhost:8080/"
        },
        "id": "FUjXqphUOMfV",
        "outputId": "756aff52-c076-4346-8e03-cd9fe2badc5c"
      },
      "source": [
        "content.take(5)"
      ],
      "execution_count": null,
      "outputs": [
        {
          "output_type": "execute_result",
          "data": {
            "text/plain": [
              "[['tanggal',\n",
              "  'kecamatan',\n",
              "  'odp',\n",
              "  'proses_pemantauan',\n",
              "  'selesai_pemantauan',\n",
              "  'pdp',\n",
              "  'masih_dirawat',\n",
              "  'pulang_dan_sehat',\n",
              "  'positif',\n",
              "  'dirawat',\n",
              "  'sembuh',\n",
              "  'meninggal',\n",
              "  'isolasi_mandiri'],\n",
              " ['2020-06-01',\n",
              "  'BELUM DIKETAHUI',\n",
              "  '4534',\n",
              "  '308',\n",
              "  '4226',\n",
              "  '3315',\n",
              "  '608',\n",
              "  '2707',\n",
              "  '623',\n",
              "  '170',\n",
              "  '29',\n",
              "  '5',\n",
              "  '419'],\n",
              " ['2020-06-01',\n",
              "  'CAKUNG',\n",
              "  '415',\n",
              "  '7',\n",
              "  '408',\n",
              "  '112',\n",
              "  '6',\n",
              "  '106',\n",
              "  '124',\n",
              "  '32',\n",
              "  '39',\n",
              "  '9',\n",
              "  '44'],\n",
              " ['2020-06-01',\n",
              "  'CEMPAKA PUTIH',\n",
              "  '761',\n",
              "  '6',\n",
              "  '755',\n",
              "  '192',\n",
              "  '7',\n",
              "  '185',\n",
              "  '94',\n",
              "  '20',\n",
              "  '46',\n",
              "  '7',\n",
              "  '21'],\n",
              " ['2020-06-01',\n",
              "  'CENGKARENG',\n",
              "  '638',\n",
              "  '3',\n",
              "  '635',\n",
              "  '99',\n",
              "  '17',\n",
              "  '82',\n",
              "  '139',\n",
              "  '36',\n",
              "  '39',\n",
              "  '11',\n",
              "  '53']]"
            ]
          },
          "metadata": {
            "tags": []
          },
          "execution_count": 20
        }
      ]
    },
    {
      "cell_type": "code",
      "metadata": {
        "id": "Wv47vnCrQPIM"
      },
      "source": [
        "def clean(x):\n",
        "  return([xx.replace('\\'', '') for xx in x])"
      ],
      "execution_count": null,
      "outputs": []
    },
    {
      "cell_type": "code",
      "metadata": {
        "colab": {
          "base_uri": "https://localhost:8080/"
        },
        "id": "KBRnT6L3QeIJ",
        "outputId": "51247c61-6602-4c92-ce0f-d58202309888"
      },
      "source": [
        "content = content.map(clean)\n",
        "content.take(5)"
      ],
      "execution_count": null,
      "outputs": [
        {
          "output_type": "execute_result",
          "data": {
            "text/plain": [
              "[['tanggal',\n",
              "  'kecamatan',\n",
              "  'odp',\n",
              "  'proses_pemantauan',\n",
              "  'selesai_pemantauan',\n",
              "  'pdp',\n",
              "  'masih_dirawat',\n",
              "  'pulang_dan_sehat',\n",
              "  'positif',\n",
              "  'dirawat',\n",
              "  'sembuh',\n",
              "  'meninggal',\n",
              "  'isolasi_mandiri'],\n",
              " ['2020-06-01',\n",
              "  'BELUM DIKETAHUI',\n",
              "  '4534',\n",
              "  '308',\n",
              "  '4226',\n",
              "  '3315',\n",
              "  '608',\n",
              "  '2707',\n",
              "  '623',\n",
              "  '170',\n",
              "  '29',\n",
              "  '5',\n",
              "  '419'],\n",
              " ['2020-06-01',\n",
              "  'CAKUNG',\n",
              "  '415',\n",
              "  '7',\n",
              "  '408',\n",
              "  '112',\n",
              "  '6',\n",
              "  '106',\n",
              "  '124',\n",
              "  '32',\n",
              "  '39',\n",
              "  '9',\n",
              "  '44'],\n",
              " ['2020-06-01',\n",
              "  'CEMPAKA PUTIH',\n",
              "  '761',\n",
              "  '6',\n",
              "  '755',\n",
              "  '192',\n",
              "  '7',\n",
              "  '185',\n",
              "  '94',\n",
              "  '20',\n",
              "  '46',\n",
              "  '7',\n",
              "  '21'],\n",
              " ['2020-06-01',\n",
              "  'CENGKARENG',\n",
              "  '638',\n",
              "  '3',\n",
              "  '635',\n",
              "  '99',\n",
              "  '17',\n",
              "  '82',\n",
              "  '139',\n",
              "  '36',\n",
              "  '39',\n",
              "  '11',\n",
              "  '53']]"
            ]
          },
          "metadata": {
            "tags": []
          },
          "execution_count": 22
        }
      ]
    },
    {
      "cell_type": "code",
      "metadata": {
        "colab": {
          "base_uri": "https://localhost:8080/"
        },
        "id": "AkPDEbodOWQO",
        "outputId": "1736a552-0853-4568-a0e7-4174e823eacc"
      },
      "source": [
        "# Create dataframe and visualize it\n",
        "DT = spark.createDataFrame(\n",
        "      data=content.filter(lambda x:x[0] != 'tanggal'), \n",
        "      schema=content.filter(lambda x:x[0] == 'tanggal').collect()[0])\n",
        "DT.persist()"
      ],
      "execution_count": null,
      "outputs": [
        {
          "output_type": "execute_result",
          "data": {
            "text/plain": [
              "DataFrame[tanggal: string, kecamatan: string, odp: string, proses_pemantauan: string, selesai_pemantauan: string, pdp: string, masih_dirawat: string, pulang_dan_sehat: string, positif: string, dirawat: string, sembuh: string, meninggal: string, isolasi_mandiri: string]"
            ]
          },
          "metadata": {
            "tags": []
          },
          "execution_count": 23
        }
      ]
    },
    {
      "cell_type": "code",
      "metadata": {
        "colab": {
          "base_uri": "https://localhost:8080/"
        },
        "id": "sIb0nI2xRCf0",
        "outputId": "b42c3415-a328-4f0f-b636-3800204e40ee"
      },
      "source": [
        "DT.show(n = 10)"
      ],
      "execution_count": null,
      "outputs": [
        {
          "output_type": "stream",
          "text": [
            "+----------+---------------+----+-----------------+------------------+----+-------------+----------------+-------+-------+------+---------+---------------+\n",
            "|   tanggal|      kecamatan| odp|proses_pemantauan|selesai_pemantauan| pdp|masih_dirawat|pulang_dan_sehat|positif|dirawat|sembuh|meninggal|isolasi_mandiri|\n",
            "+----------+---------------+----+-----------------+------------------+----+-------------+----------------+-------+-------+------+---------+---------------+\n",
            "|2020-06-01|BELUM DIKETAHUI|4534|              308|              4226|3315|          608|            2707|    623|    170|    29|        5|            419|\n",
            "|2020-06-01|         CAKUNG| 415|                7|               408| 112|            6|             106|    124|     32|    39|        9|             44|\n",
            "|2020-06-01|  CEMPAKA PUTIH| 761|                6|               755| 192|            7|             185|     94|     20|    46|        7|             21|\n",
            "|2020-06-01|     CENGKARENG| 638|                3|               635|  99|           17|              82|    139|     36|    39|       11|             53|\n",
            "|2020-06-01|       CILANDAK| 474|                1|               473| 180|            9|             171|     94|     15|    45|       14|             20|\n",
            "|2020-06-01|      CILINCING| 767|               18|               749| 106|           15|              91|    103|     22|    17|        8|             56|\n",
            "|2020-06-01|       CIPAYUNG| 360|                5|               355| 108|            6|             102|     69|     19|    26|        1|             23|\n",
            "|2020-06-01|        CIRACAS| 405|                6|               399|  89|            4|              85|     63|     17|    21|        8|             17|\n",
            "|2020-06-01|    DUREN SAWIT| 816|               14|               802| 153|            2|             151|    255|     44|    81|       25|            105|\n",
            "|2020-06-01|         GAMBIR| 313|                6|               307|  68|            7|              61|     50|     14|    17|        6|             13|\n",
            "+----------+---------------+----+-----------------+------------------+----+-------------+----------------+-------+-------+------+---------+---------------+\n",
            "only showing top 10 rows\n",
            "\n"
          ],
          "name": "stdout"
        }
      ]
    },
    {
      "cell_type": "code",
      "metadata": {
        "id": "M82U8lOMRNSE"
      },
      "source": [
        "from pyspark.sql.functions import udf"
      ],
      "execution_count": null,
      "outputs": []
    },
    {
      "cell_type": "code",
      "metadata": {
        "id": "HokAKw-fSQj4"
      },
      "source": [
        "DT.createOrReplaceTempView('covid')"
      ],
      "execution_count": null,
      "outputs": []
    },
    {
      "cell_type": "markdown",
      "metadata": {
        "id": "cqEYdD8cVLEH"
      },
      "source": [
        "# Descriptive Analytics"
      ]
    },
    {
      "cell_type": "code",
      "metadata": {
        "colab": {
          "base_uri": "https://localhost:8080/"
        },
        "id": "ruQWBBExSloZ",
        "outputId": "ec708ea7-72cd-40ae-f77d-5e98a186bb04"
      },
      "source": [
        "# Total positive cases in June\n",
        "query_result = spark.sql(\"\\\n",
        "                SELECT int(SUM(positif)) AS positive FROM covid \\\n",
        "                \")\n",
        "query_result.collect()[0]['positive']"
      ],
      "execution_count": null,
      "outputs": [
        {
          "output_type": "execute_result",
          "data": {
            "text/plain": [
              "14842"
            ]
          },
          "metadata": {
            "tags": []
          },
          "execution_count": 27
        }
      ]
    },
    {
      "cell_type": "code",
      "metadata": {
        "id": "ienvuYMxUYDS"
      },
      "source": [
        "# Top 10 Kecamatan with most positive cases in June\n",
        "query_result1 = spark.sql(\"\\\n",
        "                SELECT int(SUM(positif)) AS positive, kecamatan \\\n",
        "                FROM covid \\\n",
        "                WHERE kecamatan != 'LUAR DKI JAKARTA' \\\n",
        "                AND kecamatan != 'BELUM DIKETAHUI' \\\n",
        "                GROUP BY kecamatan \\\n",
        "                ORDER BY int(SUM(positif)) DESC \\\n",
        "                LIMIT 10 \\\n",
        "                \")\n",
        "result1 = query_result1.collect()"
      ],
      "execution_count": null,
      "outputs": []
    },
    {
      "cell_type": "code",
      "metadata": {
        "colab": {
          "base_uri": "https://localhost:8080/"
        },
        "id": "3WY69LBTWU4Y",
        "outputId": "7d01a7ae-4352-4511-e5ed-893651b5a623"
      },
      "source": [
        "for data in result1:\n",
        "  print(\"Kecamatan: \" + data['kecamatan'] + \" with: \" + str(data['positive']) + \" positive cases\")"
      ],
      "execution_count": null,
      "outputs": [
        {
          "output_type": "stream",
          "text": [
            "Kecamatan: TANAH ABANG with: 677 positive cases\n",
            "Kecamatan: TANJUNG PRIOK with: 583 positive cases\n",
            "Kecamatan: DUREN SAWIT with: 520 positive cases\n",
            "Kecamatan: PADEMANGAN with: 378 positive cases\n",
            "Kecamatan: PALMERAH with: 368 positive cases\n",
            "Kecamatan: KEBON JERUK with: 368 positive cases\n",
            "Kecamatan: PENJARINGAN with: 365 positive cases\n",
            "Kecamatan: GROGOL PETAMBURAN with: 325 positive cases\n",
            "Kecamatan: JATINEGARA with: 298 positive cases\n",
            "Kecamatan: KRAMAT JATI with: 298 positive cases\n"
          ],
          "name": "stdout"
        }
      ]
    },
    {
      "cell_type": "code",
      "metadata": {
        "id": "AOpeFkWgVJjf"
      },
      "source": [
        "# Top 10 Kecamatan with most death cases in June\n",
        "query_result2 = spark.sql(\"\\\n",
        "                SELECT int(SUM(meninggal)) AS deaths, kecamatan \\\n",
        "                FROM covid \\\n",
        "                WHERE kecamatan != 'LUAR DKI JAKARTA' \\\n",
        "                AND kecamatan != 'BELUM DIKETAHUI' \\\n",
        "                GROUP BY kecamatan \\\n",
        "                ORDER BY int(SUM(meninggal)) DESC \\\n",
        "                LIMIT 10 \\\n",
        "                \")\n",
        "\n",
        "result2 = query_result2.collect()"
      ],
      "execution_count": null,
      "outputs": []
    },
    {
      "cell_type": "code",
      "metadata": {
        "colab": {
          "base_uri": "https://localhost:8080/"
        },
        "id": "eAFJu1sfXy6V",
        "outputId": "5a9d2ca0-46e8-4575-a58c-099390b94ae8"
      },
      "source": [
        "for data in result2:\n",
        "  print(\"Kecamatan: \" + data['kecamatan'] + \" with: \" + str(data['deaths']) + \" deaths\")"
      ],
      "execution_count": null,
      "outputs": [
        {
          "output_type": "stream",
          "text": [
            "Kecamatan: TANJUNG PRIOK with: 52 deaths\n",
            "Kecamatan: DUREN SAWIT with: 50 deaths\n",
            "Kecamatan: KEBAYORAN LAMA with: 36 deaths\n",
            "Kecamatan: TANAH ABANG with: 34 deaths\n",
            "Kecamatan: PESANGGRAHAN with: 32 deaths\n",
            "Kecamatan: PALMERAH with: 31 deaths\n",
            "Kecamatan: KEBON JERUK with: 30 deaths\n",
            "Kecamatan: KEMAYORAN with: 29 deaths\n",
            "Kecamatan: CILANDAK with: 28 deaths\n",
            "Kecamatan: KRAMAT JATI with: 28 deaths\n"
          ],
          "name": "stdout"
        }
      ]
    },
    {
      "cell_type": "code",
      "metadata": {
        "id": "TdCMfyAsYQvK"
      },
      "source": [
        "# Correlation between deaths & positive cases\n",
        "query_result3 = spark.sql(\"\\\n",
        "                SELECT  int(SUM(meninggal)) AS deaths, \\\n",
        "                        int(SUM(odp)) AS odp, \\\n",
        "                        int(SUM(proses_pemantauan)) AS in_monitor, \\\n",
        "                        int(SUM(selesai_pemantauan)) AS finish_monitor, \\\n",
        "                        int(SUM(pdp)) AS pdp, \\\n",
        "                        int(SUM(masih_dirawat)) AS still_being_treated, \\\n",
        "                        int(SUM(pulang_dan_sehat)) AS recovered_and_return, \\\n",
        "                        int(SUM(positif)) AS positive, \\\n",
        "                        int(SUM(dirawat)) AS treated, \\\n",
        "                        int(SUM(sembuh)) AS recovered, \\\n",
        "                        int(SUM(isolasi_mandiri)) AS self_isolated, \\\n",
        "                        kecamatan \\\n",
        "                FROM covid \\\n",
        "                WHERE kecamatan != 'LUAR DKI JAKARTA' \\\n",
        "                AND kecamatan != 'BELUM DIKETAHUI' \\\n",
        "                AND kecamatan != '' \\\n",
        "                GROUP BY kecamatan \\\n",
        "                \")\n",
        "\n",
        "result3 = query_result3.collect()"
      ],
      "execution_count": null,
      "outputs": []
    },
    {
      "cell_type": "code",
      "metadata": {
        "id": "5gTeO0B2Yh2G"
      },
      "source": [
        "cases = []\n",
        "\n",
        "for data in result3:\n",
        "  cases.append([\n",
        "                data['deaths'], \n",
        "                data['odp'],\n",
        "                data['in_monitor'],\n",
        "                data['finish_monitor'],\n",
        "                data['pdp'],\n",
        "                data['still_being_treated'],\n",
        "                data['recovered_and_return'],\n",
        "                data['positive'],\n",
        "                data['treated'],\n",
        "                data['recovered'],\n",
        "                data['self_isolated'],\n",
        "                ])"
      ],
      "execution_count": null,
      "outputs": []
    },
    {
      "cell_type": "code",
      "metadata": {
        "id": "W05Ardh4Z3E-"
      },
      "source": [
        "import numpy as np\n",
        "import pandas as pd\n",
        "import seaborn as sns\n",
        "import matplotlib.pyplot as plt"
      ],
      "execution_count": null,
      "outputs": []
    },
    {
      "cell_type": "code",
      "metadata": {
        "id": "h-Obf2DHa_r0"
      },
      "source": [
        "type(cases)\n",
        "df = pd.DataFrame(cases)\n",
        "df.columns = ['deaths', \n",
        "              'odp', \n",
        "              'in_monitor', \n",
        "              'finish_monitor',\n",
        "              'pdp',\n",
        "              'still_being_treated',\n",
        "              'recovered_and_return',\n",
        "              'positive',\n",
        "              'treated',\n",
        "              'recovered',\n",
        "              'self_isolated'\n",
        "              ]"
      ],
      "execution_count": null,
      "outputs": []
    },
    {
      "cell_type": "code",
      "metadata": {
        "colab": {
          "base_uri": "https://localhost:8080/",
          "height": 520
        },
        "id": "PlOdYu-cfNzt",
        "outputId": "b39e4c6b-265f-458a-d0e8-d27464f7e4e8"
      },
      "source": [
        "plt.figure(figsize=(16, 6))\n",
        "mask = np.triu(np.ones_like(df.corr(), dtype=np.bool))\n",
        "heatmap = sns.heatmap(df.corr(), mask=mask, vmin=-1, vmax=1, annot=True, cmap='BrBG')\n",
        "heatmap.set_title('Triangle Correlation map for COVID in June', fontdict={'fontsize':18}, pad=16)"
      ],
      "execution_count": null,
      "outputs": [
        {
          "output_type": "execute_result",
          "data": {
            "text/plain": [
              "Text(0.5, 1.0, 'Triangle Correlation map for COVID in June')"
            ]
          },
          "metadata": {
            "tags": []
          },
          "execution_count": 37
        },
        {
          "output_type": "display_data",
          "data": {
            "image/png": "[encoded data removed]",
            "text/plain": [
              "<Figure size 1152x432 with 2 Axes>"
            ]
          },
          "metadata": {
            "tags": [],
            "needs_background": "light"
          }
        }
      ]
    },
    {
      "cell_type": "code",
      "metadata": {
        "colab": {
          "base_uri": "https://localhost:8080/",
          "height": 730
        },
        "id": "QH570wSVgqmC",
        "outputId": "e14ddd80-0f80-4c6b-9107-16b42aac0234"
      },
      "source": [
        "plt.figure(figsize=(8, 12))\n",
        "\n",
        "heatmap = sns.heatmap(df.corr()[['positive']].sort_values(by='positive', ascending=False), vmin=-1, vmax=1, annot=True, cmap='BrBG')\n",
        "heatmap.set_title('Features Correlating with Positive cases', fontdict={'fontsize':18}, pad=16);"
      ],
      "execution_count": null,
      "outputs": [
        {
          "output_type": "display_data",
          "data": {
            "image/png": "[encoded data removed]",
            "text/plain": [
              "<Figure size 576x864 with 2 Axes>"
            ]
          },
          "metadata": {
            "tags": [],
            "needs_background": "light"
          }
        }
      ]
    },
    {
      "cell_type": "code",
      "metadata": {
        "colab": {
          "base_uri": "https://localhost:8080/",
          "height": 730
        },
        "id": "uJ6F7HNihVPE",
        "outputId": "79663bd6-384d-4fd0-9231-a3fd8c3d8b78"
      },
      "source": [
        "plt.figure(figsize=(8, 12))\n",
        "\n",
        "heatmap = sns.heatmap(df.corr()[['deaths']].sort_values(by='deaths', ascending=False), vmin=-1, vmax=1, annot=True, cmap='BrBG')\n",
        "heatmap.set_title('Features Correlating with Deaths', fontdict={'fontsize':18}, pad=16);"
      ],
      "execution_count": null,
      "outputs": [
        {
          "output_type": "display_data",
          "data": {
            "image/png": "[encoded data removed]",
            "text/plain": [
              "<Figure size 576x864 with 2 Axes>"
            ]
          },
          "metadata": {
            "tags": [],
            "needs_background": "light"
          }
        }
      ]
    },
    {
      "cell_type": "markdown",
      "metadata": {
        "id": "R7dLjSSyhh6e"
      },
      "source": [
        "From the graphs and data represented above, we can make some conclusions\n",
        "regarding to COVID-19 cases in Jakarta, June 2020:\n",
        "\n",
        "\n",
        "*   There are 14842 positive cases\n",
        "*   District (kecamatan) with most positive cases is TANAH ABANG with 677 cases, and District (kecamatan) with most death cases is TANJUNG PRIOK with 52 cases.\n",
        "*   Positive cases increase alongside with the increase of people doing self isolation, and being treated in hospital proved with +0,9 and +0,72 correlation value.\n",
        "*   And death cases are mainly caused by positive cases (+0,77).\n",
        "\n",
        "**Suggestion:**\n",
        "From the analytics presented above, we need to focus our treatment to districts (kecamatan) with high positive and death cases, because many positive cases can lead to death (proven by +0,77 correlation value)."
      ]
    }
  ]
}